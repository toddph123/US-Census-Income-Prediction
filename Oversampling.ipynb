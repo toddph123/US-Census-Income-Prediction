{
 "cells": [
  {
   "cell_type": "markdown",
   "metadata": {},
   "source": [
    "#### Dealing with imblanced dataset\n",
    "\n",
    "In this case, we will use oversampling using SMOTE to increase the minority of data (>50K) as long as the ratio of is 50:50"
   ]
  },
  {
   "cell_type": "code",
   "execution_count": 1,
   "metadata": {},
   "outputs": [],
   "source": [
    "import pandas as pd\n",
    "import numpy as np\n",
    "import seaborn as sns\n",
    "import matplotlib.pyplot as plt"
   ]
  },
  {
   "cell_type": "code",
   "execution_count": 2,
   "metadata": {},
   "outputs": [],
   "source": [
    "df = pd.read_csv('processed.csv')"
   ]
  },
  {
   "cell_type": "code",
   "execution_count": 3,
   "metadata": {},
   "outputs": [],
   "source": [
    "y = df['income'] # target\n",
    "X = df.drop(columns='income') # all features"
   ]
  },
  {
   "cell_type": "code",
   "execution_count": 4,
   "metadata": {},
   "outputs": [
    {
     "data": {
      "text/plain": [
       "0    22326\n",
       "1     7508\n",
       "Name: income, dtype: int64"
      ]
     },
     "execution_count": 4,
     "metadata": {},
     "output_type": "execute_result"
    }
   ],
   "source": [
    "y.value_counts()"
   ]
  },
  {
   "cell_type": "code",
   "execution_count": 5,
   "metadata": {},
   "outputs": [
    {
     "name": "stdout",
     "output_type": "stream",
     "text": [
      "(44652, 97)\n",
      "(44652,)\n"
     ]
    }
   ],
   "source": [
    "from imblearn.over_sampling import SMOTE\n",
    "\n",
    "oversampler = SMOTE(random_state = 41)\n",
    "X_resampled, y_resampled = oversampler.fit_resample(X, y)\n",
    "print(X_resampled.shape)\n",
    "print(y_resampled.shape)"
   ]
  },
  {
   "cell_type": "code",
   "execution_count": 7,
   "metadata": {},
   "outputs": [
    {
     "name": "stdout",
     "output_type": "stream",
     "text": [
      "(44652, 97)\n",
      "(44652,)\n"
     ]
    }
   ],
   "source": [
    "print(X_resampled.shape)\n",
    "print(y_resampled.shape)"
   ]
  },
  {
   "cell_type": "markdown",
   "metadata": {},
   "source": [
    "To confirm our dataset is balance, we plot a pie chart for illustration"
   ]
  },
  {
   "cell_type": "code",
   "execution_count": 8,
   "metadata": {},
   "outputs": [
    {
     "data": {
      "text/plain": [
       "([<matplotlib.patches.Wedge at 0x257491d7cd0>,\n",
       "  <matplotlib.patches.Wedge at 0x257491eb400>],\n",
       " [Text(6.735557395310444e-17, 1.1, '1'),\n",
       "  Text(-2.0206672185931328e-16, -1.1, '0')],\n",
       " [Text(3.6739403974420595e-17, 0.6, '50.0%'),\n",
       "  Text(-1.1021821192326178e-16, -0.6, '50.0%')])"
      ]
     },
     "execution_count": 8,
     "metadata": {},
     "output_type": "execute_result"
    },
    {
     "data": {
      "image/png": "[encoded data removed]",
      "text/plain": [
       "<Figure size 432x288 with 1 Axes>"
      ]
     },
     "metadata": {},
     "output_type": "display_data"
    }
   ],
   "source": [
    "plt.pie(y_resampled.value_counts(),labels=y_resampled.value_counts().index,autopct='%1.1f%%')"
   ]
  },
  {
   "cell_type": "markdown",
   "metadata": {},
   "source": [
    "### 4. Model Training\n",
    "\n",
    "In this section, the followings will be done:\n",
    "- Train-test Split\n",
    "\n",
    "For the classification model, we will use machine learning algorithms listed as follows:\n",
    "- Logistic Regression\n",
    "- Random Forest\n",
    "- XGBoost\n",
    "\n",
    "To evaluate their performance, we will focus on the precision score and try to minimum the false positive"
   ]
  },
  {
   "cell_type": "code",
   "execution_count": 9,
   "metadata": {},
   "outputs": [],
   "source": [
    "from sklearn.model_selection import train_test_split\n",
    "from sklearn.pipeline import Pipeline\n",
    "from sklearn.model_selection import GridSearchCV\n",
    "from sklearn.linear_model import LogisticRegression\n",
    "from sklearn.ensemble import RandomForestClassifier\n",
    "from sklearn.neighbors import KNeighborsClassifier\n",
    "from sklearn.metrics import accuracy_score,recall_score,precision_score,f1_score\n",
    "from sklearn.metrics import confusion_matrix\n",
    "from sklearn.metrics import classification_report"
   ]
  },
  {
   "cell_type": "markdown",
   "metadata": {},
   "source": [
    "#### Train-test split"
   ]
  },
  {
   "cell_type": "code",
   "execution_count": 10,
   "metadata": {},
   "outputs": [
    {
     "name": "stdout",
     "output_type": "stream",
     "text": [
      "Train data stroke count\n"
     ]
    },
    {
     "data": {
      "text/plain": [
       "0    15630\n",
       "1    15626\n",
       "Name: income, dtype: int64"
      ]
     },
     "metadata": {},
     "output_type": "display_data"
    },
    {
     "name": "stdout",
     "output_type": "stream",
     "text": [
      "Test data stroke count\n"
     ]
    },
    {
     "data": {
      "text/plain": [
       "1    6700\n",
       "0    6696\n",
       "Name: income, dtype: int64"
      ]
     },
     "metadata": {},
     "output_type": "display_data"
    }
   ],
   "source": [
    "X_train, X_val, y_train, y_val = train_test_split(X_resampled, y_resampled, test_size=0.3, random_state=41)\n",
    "print('Train data stroke count')\n",
    "display(y_train.value_counts())\n",
    "print('Test data stroke count')\n",
    "display(y_val.value_counts())"
   ]
  },
  {
   "cell_type": "markdown",
   "metadata": {},
   "source": [
    "#### Logistic Regression"
   ]
  },
  {
   "cell_type": "code",
   "execution_count": 11,
   "metadata": {},
   "outputs": [
    {
     "name": "stdout",
     "output_type": "stream",
     "text": [
      "Fitting 5 folds for each of 1550 candidates, totalling 7750 fits\n",
      "Best params {'classifier__C': 0.008585714285714287, 'classifier__max_iter': 110}\n",
      "Best score 0.7849059697473356\n"
     ]
    }
   ],
   "source": [
    "# GridSearchCV\n",
    "log_clf = Pipeline([\n",
    "#    ( 'column-onehot', col_trans ),\n",
    "    ( 'classifier', LogisticRegression() )\n",
    "])\n",
    "hyperparams = { \n",
    "    'classifier__C': np.linspace(0.0001, 0.01, 50),\n",
    "    'classifier__max_iter': range(80, 111)\n",
    "}\n",
    "\n",
    "log_search = GridSearchCV(log_clf,  hyperparams, n_jobs = -1,cv=5, verbose=1)\n",
    "log_search.fit(X_train, y_train)\n",
    "y_pred = log_search.predict(X_val)\n",
    "print(\"Best params\", log_search.best_params_)\n",
    "print(\"Best score\", log_search.best_score_)\n",
    "log_C = log_search.best_params_['classifier__C']\n",
    "log_max_iter = log_search.best_params_['classifier__max_iter']\n"
   ]
  },
  {
   "cell_type": "markdown",
   "metadata": {},
   "source": [
    "#### Random Forest"
   ]
  },
  {
   "cell_type": "code",
   "execution_count": 12,
   "metadata": {},
   "outputs": [
    {
     "name": "stdout",
     "output_type": "stream",
     "text": [
      "Fitting 5 folds for each of 400 candidates, totalling 2000 fits\n",
      "Best params {'classifier__max_depth': 100, 'classifier__n_estimators': 128}\n",
      "Best score 0.8980993495295392\n"
     ]
    }
   ],
   "source": [
    "forest_clf = Pipeline([\n",
    "    ( 'classifier', RandomForestClassifier() )\n",
    "])\n",
    "hyperparams = { \n",
    "    'classifier__n_estimators': [int(x) for x in np.linspace(start=50, stop=150, num=20)],\n",
    "    'classifier__max_depth': [int(x) for x in np.linspace(40, 100, num=20)],\n",
    "\n",
    "}\n",
    "\n",
    "forest_search = GridSearchCV(forest_clf,  hyperparams, n_jobs = -1,cv=5,verbose=1)\n",
    "forest_search.fit(X_train, y_train)\n",
    "y_pred = forest_search.predict(X_val)\n",
    "print(\"Best params\", forest_search.best_params_)\n",
    "print(\"Best score\", forest_search.best_score_)\n",
    "forest_n_estimators = forest_search.best_params_['classifier__n_estimators']\n",
    "forest_max_depth = forest_search.best_params_['classifier__max_depth']"
   ]
  },
  {
   "cell_type": "markdown",
   "metadata": {},
   "source": [
    "#### XGBoost"
   ]
  },
  {
   "cell_type": "code",
   "execution_count": 13,
   "metadata": {},
   "outputs": [],
   "source": [
    "import xgboost as xgb"
   ]
  },
  {
   "cell_type": "code",
   "execution_count": 14,
   "metadata": {},
   "outputs": [
    {
     "name": "stdout",
     "output_type": "stream",
     "text": [
      "Fitting 5 folds for each of 24 candidates, totalling 120 fits\n"
     ]
    },
    {
     "name": "stderr",
     "output_type": "stream",
     "text": [
      "C:\\Users\\toddp\\anaconda3\\lib\\site-packages\\xgboost\\sklearn.py:1146: UserWarning: The use of label encoder in XGBClassifier is deprecated and will be removed in a future release. To remove this warning, do the following: 1) Pass option use_label_encoder=False when constructing XGBClassifier object; and 2) Encode your labels (y) as integers starting with 0, i.e. 0, 1, 2, ..., [num_class - 1].\n",
      "  warnings.warn(label_encoder_deprecation_msg, UserWarning)\n"
     ]
    },
    {
     "name": "stdout",
     "output_type": "stream",
     "text": [
      "[18:56:48] WARNING: C:/Users/Administrator/workspace/xgboost-win64_release_1.4.0/src/learner.cc:1095: Starting in XGBoost 1.3.0, the default evaluation metric used with the objective 'binary:logistic' was changed from 'error' to 'logloss'. Explicitly set eval_metric if you'd like to restore the old behavior.\n",
      "Best params {'classifier__max_depth': 2, 'classifier__n_estimators': 550}\n",
      "Best score 0.9084333429236094\n"
     ]
    }
   ],
   "source": [
    "xgb_clf = Pipeline([\n",
    "    ( 'classifier', xgb.XGBClassifier(\n",
    "        booster='gbtree',\n",
    "        learning_rate=0.3,\n",
    "        base_score=0.5,\n",
    "        colsample_bylevel=1, \n",
    "        colsample_bytree=1, \n",
    "        gamma=0,\n",
    "        reg_alpha=0,\n",
    "        random_state=40\n",
    "        \n",
    "    ) \n",
    "    )\n",
    "])\n",
    "hyperparams = { \n",
    "    'classifier__n_estimators': np.arange(500,800,50),\n",
    "    'classifier__max_depth':[2,6,8,10],\n",
    "    \n",
    "}\n",
    "\n",
    "xgb_search = GridSearchCV(xgb_clf,  hyperparams, n_jobs = -1,cv=5,verbose=2)\n",
    "xgb_search.fit(X_train, y_train)\n",
    "y_pred = xgb_search.predict(X_val)\n",
    "print(\"Best params\", xgb_search.best_params_)\n",
    "print(\"Best score\", xgb_search.best_score_)\n",
    "xgb_n_estimators = xgb_search.best_params_['classifier__n_estimators']\n",
    "xgb_max_depth = xgb_search.best_params_['classifier__max_depth']"
   ]
  },
  {
   "cell_type": "code",
   "execution_count": 15,
   "metadata": {},
   "outputs": [],
   "source": [
    "algorithm = ['LogisticRegression','RandomForestClassifier','XGBClassifier']\n",
    "hyperparameters = [\n",
    "    LogisticRegression(\n",
    "        C = log_C, \n",
    "        max_iter=log_max_iter\n",
    "    ), \n",
    "    RandomForestClassifier(\n",
    "        n_estimators = forest_n_estimators,\n",
    "        max_depth = forest_max_depth,\n",
    "    ),\n",
    "    xgb.XGBRFClassifier(\n",
    "        n_estimators = xgb_n_estimators,\n",
    "        max_depth = xgb_max_depth\n",
    "    )\n",
    "]"
   ]
  },
  {
   "cell_type": "code",
   "execution_count": 16,
   "metadata": {},
   "outputs": [
    {
     "name": "stdout",
     "output_type": "stream",
     "text": [
      "{'LogisticRegression': LogisticRegression(C=0.008585714285714287, max_iter=110), 'RandomForestClassifier': RandomForestClassifier(max_depth=100, n_estimators=128), 'XGBClassifier': XGBRFClassifier(base_score=None, booster=None, colsample_bylevel=None,\n",
      "                colsample_bytree=None, gamma=None, gpu_id=None,\n",
      "                importance_type='gain', interaction_constraints=None,\n",
      "                max_delta_step=None, max_depth=2, min_child_weight=None,\n",
      "                missing=nan, monotone_constraints=None, n_estimators=550,\n",
      "                n_jobs=None, num_parallel_tree=None,\n",
      "                objective='binary:logistic', random_state=None, reg_alpha=None,\n",
      "                scale_pos_weight=None, tree_method=None,\n",
      "                validate_parameters=None, verbosity=None)}\n"
     ]
    }
   ],
   "source": [
    "models=dict(zip(algorithm,hyperparameters))\n",
    "print(models)"
   ]
  },
  {
   "cell_type": "code",
   "execution_count": 17,
   "metadata": {},
   "outputs": [],
   "source": [
    "def draw_roc_curve(false_positive_rate, true_positive_rate, roc_auc):\n",
    "    plt.figure(1)\n",
    "    plt.plot([0, 1], [0, 1], 'k--')\n",
    "    plt.plot(false_positive_rate, true_positive_rate, label='Validation = {:.3f})'.format(roc_auc))\n",
    "    plt.xlabel('False positive rate')\n",
    "    plt.ylabel('True positive rate')\n",
    "    plt.title('ROC curve')\n",
    "    plt.legend(loc='best')\n",
    "    plt.show()"
   ]
  },
  {
   "cell_type": "code",
   "execution_count": 18,
   "metadata": {},
   "outputs": [
    {
     "name": "stdout",
     "output_type": "stream",
     "text": [
      "LogisticRegression 0.771722902358913\n",
      "\n",
      "\n"
     ]
    },
    {
     "data": {
      "image/png": "[encoded data removed]",
      "text/plain": [
       "<Figure size 432x288 with 1 Axes>"
      ]
     },
     "metadata": {
      "needs_background": "light"
     },
     "output_type": "display_data"
    },
    {
     "name": "stdout",
     "output_type": "stream",
     "text": [
      "              precision    recall  f1-score   support\n",
      "\n",
      "           0       0.84      0.67      0.74      6696\n",
      "           1       0.72      0.88      0.79      6700\n",
      "\n",
      "    accuracy                           0.77     13396\n",
      "   macro avg       0.78      0.77      0.77     13396\n",
      "weighted avg       0.78      0.77      0.77     13396\n",
      "\n",
      "[5873, 2231]\n",
      "[827, 4465]\n"
     ]
    },
    {
     "data": {
      "image/png": "[encoded data removed]",
      "text/plain": [
       "<Figure size 432x288 with 2 Axes>"
      ]
     },
     "metadata": {
      "needs_background": "light"
     },
     "output_type": "display_data"
    },
    {
     "data": {
      "text/plain": [
       "<Figure size 720x360 with 0 Axes>"
      ]
     },
     "metadata": {},
     "output_type": "display_data"
    },
    {
     "name": "stdout",
     "output_type": "stream",
     "text": [
      "RandomForestClassifier 0.9006419826813974\n",
      "\n",
      "\n"
     ]
    },
    {
     "data": {
      "image/png": "[encoded data removed]",
      "text/plain": [
       "<Figure size 432x288 with 1 Axes>"
      ]
     },
     "metadata": {
      "needs_background": "light"
     },
     "output_type": "display_data"
    },
    {
     "name": "stdout",
     "output_type": "stream",
     "text": [
      "              precision    recall  f1-score   support\n",
      "\n",
      "           0       0.88      0.92      0.90      6696\n",
      "           1       0.92      0.88      0.90      6700\n",
      "\n",
      "    accuracy                           0.90     13396\n",
      "   macro avg       0.90      0.90      0.90     13396\n",
      "weighted avg       0.90      0.90      0.90     13396\n",
      "\n",
      "[5874, 505]\n",
      "[826, 6191]\n"
     ]
    },
    {
     "data": {
      "image/png": "[encoded data removed]",
      "text/plain": [
       "<Figure size 432x288 with 2 Axes>"
      ]
     },
     "metadata": {
      "needs_background": "light"
     },
     "output_type": "display_data"
    },
    {
     "data": {
      "text/plain": [
       "<Figure size 720x360 with 0 Axes>"
      ]
     },
     "metadata": {},
     "output_type": "display_data"
    },
    {
     "name": "stderr",
     "output_type": "stream",
     "text": [
      "C:\\Users\\toddp\\anaconda3\\lib\\site-packages\\xgboost\\sklearn.py:1146: UserWarning: The use of label encoder in XGBClassifier is deprecated and will be removed in a future release. To remove this warning, do the following: 1) Pass option use_label_encoder=False when constructing XGBClassifier object; and 2) Encode your labels (y) as integers starting with 0, i.e. 0, 1, 2, ..., [num_class - 1].\n",
      "  warnings.warn(label_encoder_deprecation_msg, UserWarning)\n"
     ]
    },
    {
     "name": "stdout",
     "output_type": "stream",
     "text": [
      "[18:57:15] WARNING: C:/Users/Administrator/workspace/xgboost-win64_release_1.4.0/src/learner.cc:1095: Starting in XGBoost 1.3.0, the default evaluation metric used with the objective 'binary:logistic' was changed from 'error' to 'logloss'. Explicitly set eval_metric if you'd like to restore the old behavior.\n",
      "XGBClassifier 0.8438339802926247\n",
      "\n",
      "\n"
     ]
    },
    {
     "data": {
      "image/png": "[encoded data removed]",
      "text/plain": [
       "<Figure size 432x288 with 1 Axes>"
      ]
     },
     "metadata": {
      "needs_background": "light"
     },
     "output_type": "display_data"
    },
    {
     "name": "stdout",
     "output_type": "stream",
     "text": [
      "              precision    recall  f1-score   support\n",
      "\n",
      "           0       0.83      0.86      0.85      6696\n",
      "           1       0.85      0.83      0.84      6700\n",
      "\n",
      "    accuracy                           0.84     13396\n",
      "   macro avg       0.84      0.84      0.84     13396\n",
      "weighted avg       0.84      0.84      0.84     13396\n",
      "\n",
      "[5556, 948]\n",
      "[1144, 5748]\n"
     ]
    },
    {
     "data": {
      "image/png": "[encoded data removed]",
      "text/plain": [
       "<Figure size 432x288 with 2 Axes>"
      ]
     },
     "metadata": {
      "needs_background": "light"
     },
     "output_type": "display_data"
    },
    {
     "data": {
      "text/plain": [
       "<Figure size 720x360 with 0 Axes>"
      ]
     },
     "metadata": {},
     "output_type": "display_data"
    }
   ],
   "source": [
    "from sklearn.metrics import roc_curve, auc\n",
    "from sklearn.metrics import plot_confusion_matrix\n",
    "from sklearn.metrics import precision_score\n",
    "acc_score_list =[]\n",
    "precision_score_list=[]\n",
    "for name,algo in models.items():\n",
    "    model=algo\n",
    "    # Model Training\n",
    "    model.fit(X_train,y_train)\n",
    "    y_pred = model.predict(X_val)\n",
    "    \n",
    "    # Accuracy score, precision score\n",
    "    acc = accuracy_score(y_val, y_pred)\n",
    "    precision = precision_score(y_val, y_pred)\n",
    "    acc_score_list.append(acc)\n",
    "    precision_score_list.append(precision)\n",
    "    \n",
    "    # ROC AUC\n",
    "    y_prob = model.predict_proba(X_val)[:, 1]\n",
    "    false_positive_rate, true_positive_rate, thresholds = roc_curve(y_val, y_prob)\n",
    "    roc_auc = auc(false_positive_rate, true_positive_rate)\n",
    "    \n",
    "    print(name,acc)\n",
    "    print('\\n')\n",
    "    draw_roc_curve(false_positive_rate, true_positive_rate, roc_auc)\n",
    "    \n",
    "    # Confusion Matrix\n",
    "    print(classification_report(y_val, y_pred))\n",
    "    tn, fp, fn, tp = confusion_matrix(y_val, y_pred).ravel()\n",
    "    print([tp,fp])\n",
    "    print([fn,tn])\n",
    "    ax = plt.axes()\n",
    "    ax.set_title(name)\n",
    "    plt.figure(figsize=(10,5))\n",
    "    cm_data = [tp, fp], [fn, tn]\n",
    "    conf_matrix = pd.DataFrame(data=cm_data,columns=['Predicted: <=50K','Predicted: >50K'],index=['<=50K','>50K'])\n",
    "    sns.heatmap(conf_matrix, annot=True,fmt='d',cmap=\"Blues\",ax=ax)\n",
    "    plt.show()\n"
   ]
  },
  {
   "cell_type": "code",
   "execution_count": 19,
   "metadata": {},
   "outputs": [
    {
     "name": "stdout",
     "output_type": "stream",
     "text": [
      "[0.771722902358913, 0.9006419826813974, 0.8438339802926247]\n",
      "[0.7247038499506416, 0.9208339865182631, 0.8542435424354243]\n"
     ]
    },
    {
     "data": {
      "text/plain": [
       "Text(0.5, 1.0, 'Model Precision Score')"
      ]
     },
     "execution_count": 19,
     "metadata": {},
     "output_type": "execute_result"
    },
    {
     "data": {
      "image/png": "[encoded data removed]",
      "text/plain": [
       "<Figure size 720x360 with 1 Axes>"
      ]
     },
     "metadata": {
      "needs_background": "light"
     },
     "output_type": "display_data"
    },
    {
     "data": {
      "image/png": "[encoded data removed]",
      "text/plain": [
       "<Figure size 720x360 with 1 Axes>"
      ]
     },
     "metadata": {
      "needs_background": "light"
     },
     "output_type": "display_data"
    }
   ],
   "source": [
    "print(acc_score_list)\n",
    "plt.figure(figsize = (10,5))\n",
    "sns.barplot(x = acc_score_list, y = algorithm , palette='pastel')\n",
    "plt.title(\"Model Accuracies Score\", fontsize=16, fontweight=\"bold\")\n",
    "\n",
    "print(precision_score_list)\n",
    "plt.figure(figsize = (10,5))\n",
    "sns.barplot(x = precision_score_list, y = algorithm , palette='pastel')\n",
    "plt.title(\"Model Precision Score\", fontsize=16, fontweight=\"bold\")"
   ]
  },
  {
   "cell_type": "code",
   "execution_count": null,
   "metadata": {},
   "outputs": [],
   "source": []
  }
 ],
 "metadata": {
  "kernelspec": {
   "display_name": "Python 3",
   "language": "python",
   "name": "python3"
  },
  "language_info": {
   "codemirror_mode": {
    "name": "ipython",
    "version": 3
   },
   "file_extension": ".py",
   "mimetype": "text/x-python",
   "name": "python",
   "nbconvert_exporter": "python",
   "pygments_lexer": "ipython3",
   "version": "3.8.5"
  }
 },
 "nbformat": 4,
 "nbformat_minor": 4
}
